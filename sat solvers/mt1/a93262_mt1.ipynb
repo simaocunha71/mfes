{
  "cells": [
    {
      "cell_type": "markdown",
      "metadata": {
        "id": "oYfgujPymHwP"
      },
      "source": [
        "### Enunciado Exercício de Avaliação #1 - SAT Solving\n",
        "### Métodos Formais em Engenharia de Software - 2022/2023\n",
        "### Simão Pedro Sá Cunha\n",
        "### A93262 - MIEI\n",
        "\n",
        "Uma loja de electrónica permite aos seus clientes personalizar o seu computador, escolhendo entre:\n",
        "```\n",
        "• 2 modelos de CPU; \n",
        "• 2 modelos de memória RAM; \n",
        "• 2 modelos de motherboards; \n",
        "• 3 modelos de placa gráfica; \n",
        "• 3 modelos de monitor.  \n",
        "```\n",
        "\n",
        "Cada computador tem que ter obrigatoriamente:\n",
        "```\n",
        "• 1 única motherboard; \n",
        "• 1 único CPU; \n",
        "• 1 única placa gráfica; \n",
        "• 1 única memória RAM.  \n",
        "```\n",
        "\n",
        "O computador poderá ter ou não ter monitores. \n",
        "\n",
        "A personalização do computador deverá obedecer as seguintes regras:\n",
        "```\n",
        "• A motherboard MB1 quando combinada com a placa gráfica PG1, obriga a utilização da RAM1;\n",
        "• A placa gráfica PG1 precisa do CPU1, excepto quando combinada com uma memória RAM2;\n",
        "• O CPU2 só pode ser instalado na motherboard MB2;\n",
        "• O monitor MON1 para poder funcionar precisa da placa gráfica PG1 e da memória RAM2;\n",
        "• O monitor MON2 precisa da memória RAM2 para poder trabalhar com a placa gráfica PG3.\n",
        "```"
      ]
    },
    {
      "cell_type": "markdown",
      "source": [
        "#Preparação\n",
        "\n",
        "Para a realização deste exercício prático, será necessário instalar o **PICOSAT** com o comando abaixo:"
      ],
      "metadata": {
        "id": "UsBkArgApXME"
      }
    },
    {
      "cell_type": "code",
      "source": [
        "! sudo apt-get install picosat"
      ],
      "metadata": {
        "id": "BZuODyw0qB7F",
        "colab": {
          "base_uri": "https://localhost:8080/"
        },
        "outputId": "8a6a02c0-75c8-42b2-a37e-58618817300d"
      },
      "execution_count": null,
      "outputs": [
        {
          "output_type": "stream",
          "name": "stdout",
          "text": [
            "Reading package lists... Done\n",
            "Building dependency tree       \n",
            "Reading state information... Done\n",
            "The following package was automatically installed and is no longer required:\n",
            "  libnvidia-common-460\n",
            "Use 'sudo apt autoremove' to remove it.\n",
            "The following NEW packages will be installed:\n",
            "  picosat\n",
            "0 upgraded, 1 newly installed, 0 to remove and 12 not upgraded.\n",
            "Need to get 115 kB of archives.\n",
            "After this operation, 744 kB of additional disk space will be used.\n",
            "Get:1 http://archive.ubuntu.com/ubuntu bionic/universe amd64 picosat amd64 960-1build1 [115 kB]\n",
            "Fetched 115 kB in 0s (582 kB/s)\n",
            "debconf: unable to initialize frontend: Dialog\n",
            "debconf: (No usable dialog-like program is installed, so the dialog based frontend cannot be used. at /usr/share/perl5/Debconf/FrontEnd/Dialog.pm line 76, <> line 1.)\n",
            "debconf: falling back to frontend: Readline\n",
            "debconf: unable to initialize frontend: Readline\n",
            "debconf: (This frontend requires a controlling tty.)\n",
            "debconf: falling back to frontend: Teletype\n",
            "dpkg-preconfigure: unable to re-open stdin: \n",
            "Selecting previously unselected package picosat.\n",
            "(Reading database ... 123934 files and directories currently installed.)\n",
            "Preparing to unpack .../picosat_960-1build1_amd64.deb ...\n",
            "Unpacking picosat (960-1build1) ...\n",
            "Setting up picosat (960-1build1) ...\n",
            "Processing triggers for man-db (2.8.3-2ubuntu0.1) ...\n",
            "Processing triggers for libc-bin (2.27-3ubuntu1.6) ...\n"
          ]
        }
      ]
    },
    {
      "cell_type": "markdown",
      "source": [
        "# Exercício 1\n",
        "\n",
        "Defina um conjunto adequado de variaveis proposicionais para modelar o problema.\n",
        "Depois indique um conjunto de formulas proposicionais que descrevem o problema, e converta essas formulas para CNF.\n",
        "\n",
        "# Resposta \n",
        "\n",
        "* **Definição das variáveis proposicionais para a modelação do problema do enunciado:**\n",
        "```\n",
        "• CPU1: O computador tem o CPU 1.\n",
        "• CPU1: O computador tem o CPU 2. \n",
        "• RAM1: O computador tem a RAM 1. \n",
        "• RAM2: O computador tem a RAM 2. \n",
        "• MB1: O computador tem a MotherBoard 1. \n",
        "• MB2: O computador tem a MotherBoard 2. \n",
        "• PG1: O computador tem a placa gráfica 1. \n",
        "• PG2: O computador tem a placa gráfica 2. \n",
        "• MON1: O computador tem o monitor 1. \n",
        "• MON2: O computador tem o monitor 2. \n",
        "• MON3: O computador tem o monitor 3. \n",
        "```\n",
        "\n",
        "Para resolver as alíneas abaixo, recorri ao conceito de \"ou exclusivo\" (⊕) cuja explicação pode ser encontrado neste link: https://pt.wikipedia.org/wiki/Ou_exclusivo\n",
        "* **CNF que prova que um computador só pode ter obrigatoriamente 1 única motherboard:** \n",
        "```\n",
        "MB1 ⊕ MB2\n",
        "≡ (MB1 ∧ ¬MB2) ∨ (¬MB1 ∧ MB2) \n",
        "≡ (MB1 ∨ MB2) ∧ (¬MB1 ∨ ¬MB2)\n",
        "```\n",
        "\n",
        "* **CNF que prova que um computador só pode ter obrigatoriamente 1 único CPU:**\n",
        "```\n",
        "CPU1 ⊕ CPU2\n",
        "≡ (CPU1 ∧ ¬CPU2) ∨ (¬CPU1 ∧ CPU2) \n",
        "≡ (CPU1 ∨ CPU2) ∧ (¬CPU1 ∨ ¬CPU2)\n",
        "```\n",
        "\n",
        "* **CNF que prova que um computador só pode ter obrigatoriamente 1 única placa gráfica:**\n",
        "```\n",
        "PG1 ⊕ PG2 ⊕ PG3\n",
        "≡ (PG1 ∧ ¬PG2 ∧ ¬PG3) ∨ (¬PG1 ∧ PG2 ∧ ¬PG3) ∨ (¬PG1 ∧ ¬PG2 ∧ PG3)\n",
        "≡ (¬PG1 ∨ ¬PG2 ∨ PG3) ∧ (¬PG1 ∨ PG2 ∨ ¬PG3) ∧ (PG1 ∨ ¬PG2 ∨ ¬PG3) ∧ (PG1 ∨ PG2 ∨ PG3)\n",
        "```\n",
        "\n",
        "* **CNF que prova que um computador só pode ter obrigatoriamente 1 única memória RAM:**\n",
        "```\n",
        "RAM1 ⊕ RAM2\n",
        "≡ (RAM1 ∧ ¬RAM2) ∨ (¬RAM1 ∧ RAM2) \n",
        "≡ (RAM1 ∨ RAM2) ∧ (¬RAM1 ∨ ¬RAM2)\n",
        "```\n",
        "\n",
        "* **CNF que prova que um computador pode ou não ter monitores:**\n",
        "```\n",
        "MON1 ∨ MON2 ∨ MON3 ∨ ¬MON1 ∨ ¬MON2 ∨ ¬MON3\n",
        "```\n",
        "\n",
        "Assim, de acordo com as regras estabelecidas no enunciado, a **definição de um computador** em CNF é:\n",
        "\n",
        "<center> $ (MB1 ∨ MB2) ∧ (¬MB1 ∨ ¬MB2)$ </center>\n",
        "<center> $ \\wedge  $ </center>\n",
        "<center> $ (CPU1 ∨ CPU2) ∧ (¬CPU1 ∨ ¬CPU2) $ </center>\n",
        "<center> $ \\wedge  $ </center>\n",
        "<center> $ (¬PG1 ∨ ¬PG2 ∨ PG3) ∧ (¬PG1 ∨ PG2 ∨ ¬PG3) ∧ (PG1 ∨ ¬PG2 ∨ ¬PG3) ∧ (PG1 ∨ PG2 ∨ PG3) $ </center>\n",
        "<center> $ \\wedge  $ </center>\n",
        "<center> $ (RAM1 ∨ RAM2) ∧ (¬RAM1 ∨ ¬RAM2) $ </center>\n",
        "<center> $ \\wedge  $ </center>\n",
        "<center> $ (MON1 ∨ MON2 ∨ MON3 ∨ ¬MON1 ∨ ¬MON2 ∨ ¬MON3) $ </center>\n",
        "\n",
        "Agora, passaremos para as regras referentes à personalização dos computadores.\n",
        "\n",
        "* **CNF que prova que \"A motherboard MB1 quando combinada com a placa gráfica PG1, obriga a utilização da RAM1\"**\n",
        "```\n",
        "(MB1 ∧ PG1) → RAM1\n",
        "≡ ¬(MB1 ∧ PG1) ∨ RAM1\n",
        "≡ (¬MB1 ∨ ¬PG1) ∨ RAM1\n",
        "≡ ¬MB1 ∨ ¬PG1 ∨ RAM1\n",
        "```\n",
        "\n",
        "* **CNF que prova que \"A placa gráfica PG1 precisa do CPU1, excepto quando combinada com uma memória RAM2\"**\n",
        "```\n",
        "(PG1 → CPU1) ∨ RAM2 \n",
        "≡ (¬PG1 ∨ CPU1) ∨ RAM2\n",
        "≡ ¬PG1 ∨ CPU1 ∨ RAM2\n",
        "```\n",
        "\n",
        "* **CNF que prova que \"O CPU2 só pode ser instalado na motherboard MB2\"**\n",
        "```\n",
        "CPU2 → MB2\n",
        "≡ ¬CPU2 ∨ MB2\n",
        "```\n",
        "\n",
        "* **CNF que prova que \"O monitor MON1 para poder funcionar precisa da placa gráfica PG1 e da memória RAM2\"**\n",
        "```\n",
        "MON1 → (PG1 ∧ RAM2)\n",
        "≡ ¬MON1 ∨ (PG1 ∧ RAM2)\n",
        "≡ (¬MON1 ∨ PG1) ∧ (¬MON1 ∨ RAM2)\n",
        "```\n",
        "\n",
        "* **CNF que prova que \"O monitor MON2 precisa da memória RAM2 para poder trabalhar com a placa gráfica PG3\"**\n",
        "```\n",
        "(MON2 ∧ PG3) → RAM2\n",
        "≡ ¬(MON2 ∧ PG3) ∨ RAM2\n",
        "≡ ¬MON2 ∨ ¬PG3 ∨ RAM2\n",
        "```\n"
      ],
      "metadata": {
        "id": "9EgOJduFm7uC"
      }
    },
    {
      "cell_type": "markdown",
      "source": [
        "# Exercício 2\n",
        "\n",
        "Codifique o problema num SAT solver e comprove que o conjunto de fórmulas é consistente.\n",
        "\n",
        "## Resposta\n",
        "\n",
        "De forma a efetuar um mapeamento entre inteiros e as variáveis proposicionais, surgiu a seguinte tabela:\n",
        "<center>\n",
        "\n",
        "| Inteiros | Variáveis proposicionais |\n",
        "|:--------:|:------------------------:|\n",
        "|     1    |           CPU1           |\n",
        "|     2    |           CPU2           |\n",
        "|     3    |           RAM1           |\n",
        "|     4    |           RAM2           |\n",
        "|     5    |            MB1           |\n",
        "|     6    |            MB2           |\n",
        "|     7    |            PG1           |\n",
        "|     8    |            PG2           |\n",
        "|     9    |            PG3           |\n",
        "|    10    |           MON1           |\n",
        "|    11    |           MON2           |\n",
        "|    12    |           MON3           |\n",
        "\n",
        "</center>\n",
        "\n",
        "\n",
        "Assim, surgem as seguintes traduções para PICOSAT:\n",
        "<center>\n",
        "\n",
        "|                                       Expressão                                           |             Expressão SAT                             |\n",
        "|:-----------------------------------------------------------------------------------------:|:-----------------------------------------------------:|\n",
        "|   Computador só pode ter obrigatoriamente uma única motherboard                           |      (5 ∨ 6) ∧ (-5 ∨ -6)                              |\n",
        "|      Computador só pode ter obrigatoriamente um único CPU                                 |      (1 ∨ 2) ∧ (-1 ∨ -2)                              |\n",
        "|  Computador só pode ter obrigatoriamente uma única placa gráfica                          |      (7 ∨ 8 ∨ 9) ∧ (-7 ∨ -8) ∧ (-7 ∨ -9) ∧ (-8 ∨ -9)  |\n",
        "|   Computador só pode ter obrigatoriamente uma única memória RAM                           |      (3 ∨ 4) ∧ (-3 ∨ -4)                              |\n",
        "| Computador pode ou não ter monitores                                                      |      10 ∨ 11 ∨ 12 ∨ -10 ∨ -11 ∨ -12                   |\n",
        "|   A motherboard MB1 quando combinada com a placa gráfica PG1, obriga a utilização da RAM1 |      -5 ∨ -7 ∨ 3                                      |\n",
        "|   A placa gráfica PG1 precisa do CPU1, excepto quando combinada com uma memória RAM2      |      -7 ∨ 1 ∨ 4                                       |\n",
        "|   O CPU2 só pode ser instalado na motherboard MB2                                         |      -2 ∨ 6                                           |\n",
        "|   O monitor MON1 para poder funcionar precisa da placa gráfica PG1 e da memória RAM2      |      (-10 ∨ 7) ∧ (-10 ∨ 4)                            |\n",
        "|   O monitor MON2 precisa da memória RAM2 para poder trabalhar com a placa gráfica PG3     |      -11 ∨ -9 ∨ 4                                     |\n",
        "\n",
        "</center>\n",
        "\n",
        "Consequentemente, obtemos o seguinte ficheiro SAT:"
      ],
      "metadata": {
        "id": "3WMfTNDGnHSi"
      }
    },
    {
      "cell_type": "code",
      "source": [
        "! cat /content/first.cnf"
      ],
      "metadata": {
        "colab": {
          "base_uri": "https://localhost:8080/"
        },
        "id": "LgWcaENd3hvd",
        "outputId": "5ede74c1-3735-4566-ba80-33a7cc7a91d7"
      },
      "execution_count": null,
      "outputs": [
        {
          "output_type": "stream",
          "name": "stdout",
          "text": [
            "p cnf 12 17\r\n",
            "5 6 0\r\n",
            "-5 -6 0\r\n",
            "1 2 0\r\n",
            "-1 -2 0\r\n",
            "7 8 9 0\r\n",
            "-7 -8 0\r\n",
            "-7 -9 0\r\n",
            "-8 -9 0\r\n",
            "3 4 0\r\n",
            "-3 -4 0\r\n",
            "10 11 12 -10 -11 -12 0\r\n",
            "-5 -7 3 0\r\n",
            "-7 1 4 0\r\n",
            "-2 6 0 \r\n",
            "-10 7 0\r\n",
            "-10 4 0\r\n",
            "-11 -9 4 0"
          ]
        }
      ]
    },
    {
      "cell_type": "markdown",
      "source": [
        "Executando o solver, temos:"
      ],
      "metadata": {
        "id": "aaU_rUJ_3mmj"
      }
    },
    {
      "cell_type": "code",
      "source": [
        "! picosat /content/first.cnf"
      ],
      "metadata": {
        "colab": {
          "base_uri": "https://localhost:8080/"
        },
        "id": "fKQ3Nnod3Nnj",
        "outputId": "ecf063fb-bfe6-409a-bca1-3160376d6e5a"
      },
      "execution_count": null,
      "outputs": [
        {
          "output_type": "stream",
          "name": "stdout",
          "text": [
            "s SATISFIABLE\n",
            "v 1 -2 3 -4 -5 6 -7 -8 9 -10 -11 -12 0\n"
          ]
        }
      ]
    },
    {
      "cell_type": "markdown",
      "source": [
        "Uma vez que deu *SATISFIABLE*, podemos concluir que o conjunto de fórmulas elaboradas na alínea 1 é consistente."
      ],
      "metadata": {
        "id": "Keab6ATpQOfc"
      }
    },
    {
      "cell_type": "markdown",
      "source": [
        "# Exercício 3\n",
        "Justificando a sua resposta, use agora o SAT solver responder às seguintes questões.\n",
        "\n",
        "<ol type=\"a\">\n",
        "  <li>O monitor MON1 só poderá ser usado com uma motherboard MB1?</li>\n",
        "  <li>Um cliente pode personalizar o seu computador da seguinte forma: uma motherboard MB1, o CPU1, a placa gráfica PG2 e a memória RAM1?</li>\n",
        "  <li>E possivel combinar a motherboard MB2, a placa gráfica PG3 e a RAM1 num mesmo computador ?</li>\n",
        "  <li>Para combinarmos a placa gráfica PG2 e a RAM1 temos que usar o CPU2? </li>\n",
        "</ol>\n",
        "\n",
        "# Alínea A)\n",
        "\n",
        "A forma normal conjuntiva (CNF) desta afirmação é:\n",
        "```\n",
        "MON1 → MB1\n",
        "≡ ¬MON1 ∨ MB1 \n",
        "≡ MON1 ∧ ¬MB1 \n",
        "```\n",
        "Traduz-se a CNF obtida em formato DIMACS da seguinte forma:\n",
        "```\n",
        "10 0\n",
        "-5 0\n",
        "```\n",
        "Logo, acrescentando esta restrição, teremos o seguinte ficheiro:"
      ],
      "metadata": {
        "id": "3sdA6huBnPyB"
      }
    },
    {
      "cell_type": "code",
      "source": [
        "! cat /content/second.cnf"
      ],
      "metadata": {
        "colab": {
          "base_uri": "https://localhost:8080/"
        },
        "id": "8vc2JiG8gmhR",
        "outputId": "91a021c6-7b2a-4a41-b28a-55fac5df4783"
      },
      "execution_count": null,
      "outputs": [
        {
          "output_type": "stream",
          "name": "stdout",
          "text": [
            "p cnf 12 19\r\n",
            "5 6 0\r\n",
            "-5 -6 0\r\n",
            "1 2 0\r\n",
            "-1 -2 0\r\n",
            "7 8 9 0\r\n",
            "-7 -8 0\r\n",
            "-7 -9 0\r\n",
            "-8 -9 0\r\n",
            "3 4 0\r\n",
            "-3 -4 0\r\n",
            "10 11 12 -10 -11 -12 0\r\n",
            "-5 -7 3 0\r\n",
            "-7 1 4 0\r\n",
            "-2 6 0 \r\n",
            "-10 7 0\r\n",
            "-10 4 0\r\n",
            "-11 -9 4 0\r\n",
            "10 0\r\n",
            "-5 0"
          ]
        }
      ]
    },
    {
      "cell_type": "markdown",
      "source": [
        "Executando o novo ficheiro no solver PICOSAT, temos:"
      ],
      "metadata": {
        "id": "LGstmDQzgwVh"
      }
    },
    {
      "cell_type": "code",
      "source": [
        "! picosat /content/second.cnf"
      ],
      "metadata": {
        "colab": {
          "base_uri": "https://localhost:8080/"
        },
        "id": "0Bz9RNREg3GZ",
        "outputId": "f280c44e-763b-4567-a8a4-9d6dd51b665b"
      },
      "execution_count": null,
      "outputs": [
        {
          "output_type": "stream",
          "name": "stdout",
          "text": [
            "s SATISFIABLE\n",
            "v 1 -2 -3 4 -5 6 7 -8 -9 10 -11 -12 0\n"
          ]
        }
      ]
    },
    {
      "cell_type": "markdown",
      "source": [
        "Interpretando este resultado, sabemos que a CNF tem valor lógico falso. Logo, o uso de MON1 **não** implica o uso de MB1."
      ],
      "metadata": {
        "id": "PiBC2VnaoQcj"
      }
    },
    {
      "cell_type": "markdown",
      "source": [
        "# Alínea B)\n",
        "\n",
        "A forma normal conjuntiva (CNF) desta afirmação é:\n",
        "```\n",
        "MB1 ∧ CPU1 ∧ PG2 ∧ RAM1 \n",
        "```\n",
        "Traduz-se a CNF obtida em formato DIMACS da seguinte forma:\n",
        "```\n",
        "5 0\n",
        "1 0\n",
        "8 0\n",
        "3 0\n",
        "```\n",
        "Logo, acrescentando esta restrição, teremos o seguinte ficheiro:"
      ],
      "metadata": {
        "id": "H1fysotoodAW"
      }
    },
    {
      "cell_type": "code",
      "source": [
        "! cat /content/third.cnf"
      ],
      "metadata": {
        "colab": {
          "base_uri": "https://localhost:8080/"
        },
        "id": "og4Im4Cjot7j",
        "outputId": "a1e0667f-8846-4d98-e997-e4067efeca9d"
      },
      "execution_count": null,
      "outputs": [
        {
          "output_type": "stream",
          "name": "stdout",
          "text": [
            "p cnf 12 21\r\n",
            "5 6 0\r\n",
            "-5 -6 0\r\n",
            "1 2 0\r\n",
            "-1 -2 0\r\n",
            "7 8 9 0\r\n",
            "-7 -8 0\r\n",
            "-7 -9 0\r\n",
            "-8 -9 0\r\n",
            "3 4 0\r\n",
            "-3 -4 0\r\n",
            "10 11 12 -10 -11 -12 0\r\n",
            "-5 -7 3 0\r\n",
            "-7 1 4 0\r\n",
            "-2 6 0 \r\n",
            "-10 7 0\r\n",
            "-10 4 0\r\n",
            "-11 -9 4 0\r\n",
            "5 0\r\n",
            "1 0\r\n",
            "8 0\r\n",
            "3 0"
          ]
        }
      ]
    },
    {
      "cell_type": "markdown",
      "source": [
        "Executando o novo ficheiro no solver PICOSAT, temos:"
      ],
      "metadata": {
        "id": "ypAOKbnroy-a"
      }
    },
    {
      "cell_type": "code",
      "source": [
        "! picosat /content/third.cnf"
      ],
      "metadata": {
        "colab": {
          "base_uri": "https://localhost:8080/"
        },
        "id": "DM71GUfGo0FH",
        "outputId": "79f19cad-07a6-4fb4-962b-f0a42b00f451"
      },
      "execution_count": null,
      "outputs": [
        {
          "output_type": "stream",
          "name": "stdout",
          "text": [
            "s SATISFIABLE\n",
            "v 1 -2 3 -4 5 -6 -7 8 -9 -10 -11 -12 0\n"
          ]
        }
      ]
    },
    {
      "cell_type": "markdown",
      "source": [
        "Interpretando este resultado, concluímos que a construção do computador do enunciado pode ser construído, uma vez que a sua CNF tem valor lógico **verdadeiro**."
      ],
      "metadata": {
        "id": "9MztIihKo8bb"
      }
    },
    {
      "cell_type": "markdown",
      "source": [
        "# Alínea C)\n",
        "\n",
        "A forma normal conjuntiva (CNF) desta afirmação é:\n",
        "```\n",
        "MB2 ∧ PG3 ∧ RAM1 \n",
        "```\n",
        "Traduz-se a CNF obtida em formato DIMACS da seguinte forma:\n",
        "```\n",
        "6 0\n",
        "9 0\n",
        "3 0\n",
        "```\n",
        "Logo, acrescentando esta restrição, teremos o seguinte ficheiro:"
      ],
      "metadata": {
        "id": "mZ7TnJfKpCWT"
      }
    },
    {
      "cell_type": "code",
      "source": [
        "! cat /content/fourth.cnf"
      ],
      "metadata": {
        "colab": {
          "base_uri": "https://localhost:8080/"
        },
        "id": "2HaHfZE2pJEi",
        "outputId": "27e7d56f-5076-43e4-9f4c-18913bb06e93"
      },
      "execution_count": null,
      "outputs": [
        {
          "output_type": "stream",
          "name": "stdout",
          "text": [
            "p cnf 12 20\r\n",
            "5 6 0\r\n",
            "-5 -6 0\r\n",
            "1 2 0\r\n",
            "-1 -2 0\r\n",
            "7 8 9 0\r\n",
            "-7 -8 0\r\n",
            "-7 -9 0\r\n",
            "-8 -9 0\r\n",
            "3 4 0\r\n",
            "-3 -4 0\r\n",
            "10 11 12 -10 -11 -12 0\r\n",
            "-5 -7 3 0\r\n",
            "-7 1 4 0\r\n",
            "-2 6 0 \r\n",
            "-10 7 0\r\n",
            "-10 4 0\r\n",
            "-11 -9 4 0\r\n",
            "6 0\r\n",
            "9 0\r\n",
            "3 0"
          ]
        }
      ]
    },
    {
      "cell_type": "markdown",
      "source": [
        "Executando o novo ficheiro no solver PICOSAT, temos:"
      ],
      "metadata": {
        "id": "BNh6CdxYpTaO"
      }
    },
    {
      "cell_type": "code",
      "source": [
        "! picosat /content/fourth.cnf"
      ],
      "metadata": {
        "colab": {
          "base_uri": "https://localhost:8080/"
        },
        "id": "_njZvScIpT7b",
        "outputId": "86c2b3a7-7173-43c5-f9e8-5cbb47d7f818"
      },
      "execution_count": null,
      "outputs": [
        {
          "output_type": "stream",
          "name": "stdout",
          "text": [
            "s SATISFIABLE\n",
            "v 1 -2 3 -4 -5 6 -7 -8 9 -10 -11 -12 0\n"
          ]
        }
      ]
    },
    {
      "cell_type": "markdown",
      "source": [
        "Interpretando este resultado, concluímos que a combinação de peças de *hardware* do enunciado pode ser efetuada, uma vez que a sua CNF tem valor lógico **verdadeiro**."
      ],
      "metadata": {
        "id": "M4JBEY0Kpdci"
      }
    },
    {
      "cell_type": "markdown",
      "source": [
        "# Alínea D)\n",
        "\n",
        "A forma normal conjuntiva (CNF) desta afirmação é:\n",
        "```\n",
        "(PG2 ∧ RAM1) → CPU2\n",
        "≡ ¬(PG2 ∧ RAM1) ∨ CPU2\n",
        "≡ ¬PG2 ∨ ¬RAM1 ∨ CPU2\n",
        "```\n",
        "Traduz-se a CNF obtida em formato DIMACS da seguinte forma:\n",
        "```\n",
        "-8 0\n",
        "-3 0\n",
        "2 0\n",
        "```\n",
        "Logo, acrescentando esta restrição, teremos o seguinte ficheiro:"
      ],
      "metadata": {
        "id": "amCmkeZlppGS"
      }
    },
    {
      "cell_type": "code",
      "source": [
        "! cat /content/fifth.cnf"
      ],
      "metadata": {
        "colab": {
          "base_uri": "https://localhost:8080/"
        },
        "id": "VUJLnsJkpub5",
        "outputId": "229e4b59-ef06-4204-f206-ca63c23e24ae"
      },
      "execution_count": null,
      "outputs": [
        {
          "output_type": "stream",
          "name": "stdout",
          "text": [
            "p cnf 12 20\r\n",
            "5 6 0\r\n",
            "-5 -6 0\r\n",
            "1 2 0\r\n",
            "-1 -2 0\r\n",
            "7 8 9 0\r\n",
            "-7 -8 0\r\n",
            "-7 -9 0\r\n",
            "-8 -9 0\r\n",
            "3 4 0\r\n",
            "-3 -4 0\r\n",
            "10 11 12 -10 -11 -12 0\r\n",
            "-5 -7 3 0\r\n",
            "-7 1 4 0\r\n",
            "-2 6 0 \r\n",
            "-10 7 0\r\n",
            "-10 4 0\r\n",
            "-11 -9 4 0\r\n",
            "-8 0\r\n",
            "-3 0\r\n",
            "2 0"
          ]
        }
      ]
    },
    {
      "cell_type": "markdown",
      "source": [
        "Executando o novo ficheiro no solver PICOSAT, temos:"
      ],
      "metadata": {
        "id": "Tk4qykdBp02p"
      }
    },
    {
      "cell_type": "code",
      "source": [
        "! picosat /content/fifth.cnf"
      ],
      "metadata": {
        "colab": {
          "base_uri": "https://localhost:8080/"
        },
        "id": "3bHv5-t2p1SK",
        "outputId": "b777dc96-2205-4c5d-a81d-c750334555f3"
      },
      "execution_count": null,
      "outputs": [
        {
          "output_type": "stream",
          "name": "stdout",
          "text": [
            "s SATISFIABLE\n",
            "v -1 2 -3 4 -5 6 -7 -8 9 -10 -11 -12 0\n"
          ]
        }
      ]
    },
    {
      "cell_type": "markdown",
      "source": [
        "Interpretando este resultado, concluímos que o valor lógico da CNF é **falso**, uma vez que a utilização do CPU2 impede que se possa usar uma combinação de PG2 com RAM1."
      ],
      "metadata": {
        "id": "kENReVFYqBs5"
      }
    }
  ],
  "metadata": {
    "kernelspec": {
      "display_name": "Python 3.10.7 64-bit",
      "language": "python",
      "name": "python3"
    },
    "language_info": {
      "name": "python",
      "version": "3.10.7"
    },
    "orig_nbformat": 4,
    "vscode": {
      "interpreter": {
        "hash": "369f2c481f4da34e4445cda3fffd2e751bd1c4d706f27375911949ba6bb62e1c"
      }
    },
    "colab": {
      "provenance": [],
      "collapsed_sections": []
    }
  },
  "nbformat": 4,
  "nbformat_minor": 0
}