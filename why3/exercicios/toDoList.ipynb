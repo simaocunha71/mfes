{
 "cells": [
  {
   "attachments": {},
   "cell_type": "markdown",
   "metadata": {},
   "source": [
    "Este módulo contém a especificação para uma lista ToDo, baseado em dois conjuntos de tarefas: pendentes e feito (completo). É implementado usando conjuntos mutáveis."
   ]
  },
  {
   "cell_type": "raw",
   "metadata": {},
   "source": [
    "module ToDo\n",
    "\n",
    "  type task \n",
    "\n",
    "  clone export set.SetImp with type elt = task\n",
    "\n",
    "  val pending : set \n",
    "  val ddone   : set \n",
    "\n",
    "\n",
    "  let addT (t :task) : ()\n",
    "    requires { not mem t (union pending ddone) }\n",
    "    requires { forall t' :task. (mem t' ddone -> not mem t' pending)\n",
    "                             /\\ (mem t' pending -> not mem t' ddone) }\n",
    "    ensures  { forall t' :task. mem t' ddone   <-> mem t' (old ddone) }\n",
    "    ensures  { forall t' :task. mem t' pending <-> mem t' (old pending) \\/ t' = t }\n",
    "    ensures  { forall t' :task. (mem t' ddone -> not mem t' pending)\n",
    "                             /\\ (mem t' pending -> not mem t' ddone) }\n",
    "    writes   { pending }\n",
    "  = add t pending"
   ]
  },
  {
   "attachments": {},
   "cell_type": "markdown",
   "metadata": {},
   "source": [
    "1. Completa a especificação e a implementação da função `completeT`, que move a tarefa da lista pendente para a lista feito. Verifica a função."
   ]
  },
  {
   "cell_type": "raw",
   "metadata": {},
   "source": [
    "  let completeT (t :task) : ()\n",
    "    requires { mem t pending }\n",
    "    requires { forall t' :task. (mem t' ddone -> not mem t' pending)\n",
    "                             /\\ (mem t' pending -> not mem t' ddone) }\n",
    "    ensures  { forall t' :task. mem t' ddone   <-> mem t' (old ddone)   \\/ t' = t  }\n",
    "    ensures  { forall t' :task. mem t' pending <-> mem t' (old pending) /\\ t' <> t }\n",
    "    ensures  { forall t' :task. (mem t' ddone -> not mem t' pending)\n",
    "                             /\\ (mem t' pending -> not mem t' ddone) }\n",
    "    writes   { pending, ddone }\n",
    "  = add t ddone ;\n",
    "    remove t pending "
   ]
  },
  {
   "attachments": {},
   "cell_type": "markdown",
   "metadata": {},
   "source": [
    "2. Completa a especificação e a implementação da função `deleteT`, que remove a tarefa de ambas as listas. Verifica a função."
   ]
  },
  {
   "cell_type": "raw",
   "metadata": {},
   "source": [
    "  let deleteT (t :task) : ()\n",
    "    requires { mem t (union pending ddone) }\n",
    "    requires { forall t' :task. (mem t' ddone -> not mem t' pending)\n",
    "                             /\\ (mem t' pending -> not mem t' ddone) }\n",
    "    ensures  { forall t' :task. mem t' ddone   <-> mem t' (old ddone)   /\\ t' <> t }\n",
    "    ensures  { forall t' :task. mem t' pending <-> mem t' (old pending) /\\ t' <> t }\n",
    "    ensures  { forall t' :task. (mem t' ddone -> not mem t' pending)\n",
    "                             /\\ (mem t' pending -> not mem t' ddone) }\n",
    "    writes   { pending, ddone }\n",
    "  = remove t pending ;\n",
    "    remove t ddone "
   ]
  },
  {
   "attachments": {},
   "cell_type": "markdown",
   "metadata": {},
   "source": [
    "3. Completa a função principal com as pré-condições necessárias para o sucesso da verificação."
   ]
  },
  {
   "cell_type": "raw",
   "metadata": {},
   "source": [
    "  val t1 :task\n",
    "  val t2 :task\n",
    "\n",
    "\n",
    "  let main () \n",
    "    requires { t1 <> t2 }\n",
    "    requires { not (mem t1 (union pending ddone)) }\n",
    "    requires { not (mem t2 (union pending ddone)) }\n",
    "    requires { forall t' :task. (mem t' ddone -> not mem t' pending)\n",
    "                             /\\ (mem t' pending -> not mem t' ddone) }\n",
    "    ensures  { not mem t1 (union ddone pending) }\n",
    "    ensures  { not (mem t2 pending) }\n",
    "    ensures  { mem t2 ddone }\n",
    "  = addT t1; \n",
    "    addT t2; \n",
    "    deleteT t1; \n",
    "    completeT t2\n",
    "\n",
    "\n",
    "\n",
    "end\n"
   ]
  }
 ],
 "metadata": {
  "kernelspec": {
   "display_name": "Python 3",
   "language": "python",
   "name": "python3"
  },
  "language_info": {
   "codemirror_mode": {
    "name": "ipython",
    "version": 3
   },
   "file_extension": ".py",
   "mimetype": "text/x-python",
   "name": "python",
   "nbconvert_exporter": "python",
   "pygments_lexer": "ipython3",
   "version": "3.10.7 (tags/v3.10.7:6cc6b13, Sep  5 2022, 14:08:36) [MSC v.1933 64 bit (AMD64)]"
  },
  "orig_nbformat": 4,
  "vscode": {
   "interpreter": {
    "hash": "369f2c481f4da34e4445cda3fffd2e751bd1c4d706f27375911949ba6bb62e1c"
   }
  }
 },
 "nbformat": 4,
 "nbformat_minor": 2
}
