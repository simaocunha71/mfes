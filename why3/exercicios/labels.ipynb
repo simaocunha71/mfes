{
 "cells": [
  {
   "attachments": {},
   "cell_type": "markdown",
   "metadata": {},
   "source": [
    "Especificação e implementação de um sistema de labeling, com itens a serem mapeados para conjuntos de labels. Usa um tipo de registo com um campo mutável e tipos aplicativos para conjuntos finitos e maps."
   ]
  },
  {
   "attachments": {},
   "cell_type": "markdown",
   "metadata": {},
   "source": [
    "1. Escreve a especificação e a implementação da função `detach`, que remove a associação de uma label a um item."
   ]
  },
  {
   "cell_type": "raw",
   "metadata": {},
   "source": [
    "  let detach (i :item) (l :llabel)\n",
    "    requires { mem i state.labels /\\ SetApp.mem l (find i state.labels) }\n",
    "    ensures  { mem i state.labels -> not (SetApp.mem l (find i state.labels)) }\n",
    "    ensures  { forall i' :item, l' :llabel. mem i' (old state.labels) /\\ SetApp.mem l' (find i' (old state.labels)) -> \n",
    "                                            (i' = i /\\ l' = l) \\/ \n",
    "                                            mem i' state.labels /\\ SetApp.mem l' (find i' state.labels)  }\n",
    "    ensures  { forall i' :item, l' :llabel. mem i' state.labels /\\ SetApp.mem l' (find i' state.labels) ->\n",
    "                                            (mem i' (old state.labels) /\\ SetApp.mem l' (find i' (old state.labels))) }\n",
    "    writes   { state.labels }\n",
    "\t\t\t\t\t    \n",
    "  = let oldlblsi = find i state.labels in\n",
    "    let lblsi = SetApp.remove l oldlblsi in\n",
    "    if lblsi == empty()\n",
    "      then state.labels <- remove i state.labels \n",
    "      else state.labels <- add i lblsi state.labels"
   ]
  },
  {
   "attachments": {},
   "cell_type": "markdown",
   "metadata": {},
   "source": [
    "2. Escreve a especificação e a implementação da função `clear`, que remove o item inteiramente do sistema."
   ]
  },
  {
   "cell_type": "raw",
   "metadata": {},
   "source": [
    "  let clear (i :item) \n",
    "    ensures  { not (mem i state.labels) }\n",
    "    writes   { state.labels }\n",
    "\t\t\t\t\t    \n",
    "  = if (mem i state.labels) then state.labels <- remove i state.labels"
   ]
  },
  {
   "attachments": {},
   "cell_type": "markdown",
   "metadata": {},
   "source": [
    "3. Verifica todas as funções, incluindo os diferentes cenários de execução dados no módulo. Para o cenario #3, uma das condições geradas vai falhar."
   ]
  },
  {
   "cell_type": "raw",
   "metadata": {},
   "source": [
    "  val i :item\n",
    "  val l1 :llabel\n",
    "  val l2 :llabel\n",
    "\n",
    "  let scenario1 ()\n",
    "  = affix i l1; detach i l1; affix i l1; clear i \n",
    "\n",
    "  let scenario2 () \n",
    "  = affix i l1; affix i l2; clear i\n",
    "\n",
    "  (* error *)\n",
    "  let scenario3 ()\n",
    "  = affix i l1; detach i l2; affix i l1; clear i \n",
    "\n",
    "  let scenario4 () : set\n",
    "    ensures { SetApp.mem l1 result }\n",
    "    ensures { SetApp.mem l2 result }\n",
    "  = affix i l1; affix i l2; find i state.labels\n",
    "\n",
    "  let scenario5 () : set\n",
    "    requires { l1 <> l2 }\n",
    "    ensures  { not (SetApp.mem l1 result) }\n",
    "    ensures  { SetApp.mem l2 result }\n",
    "  = affix i l1; affix i l2; detach i l1; find i state.labels"
   ]
  },
  {
   "attachments": {},
   "cell_type": "markdown",
   "metadata": {},
   "source": [
    "4. É possível, mas indesejável, ter um conjunto vazio de labels associados a um item. Modifica a função `detach` de forma a que remova os itens do *map* sempre que os seus conjuntos tornam-se vazios."
   ]
  },
  {
   "cell_type": "raw",
   "metadata": {},
   "source": [
    "#Voltar a 1.\n",
    "\n",
    "LINK ORIGINAL: https://why3.lri.fr/try/?name=test.mlw&lang=whyml&code=A7HpySpecification%2F1andyimplementation%2F0ofza6labeling4system7r2withBI3items4mapped0to2setsk4labels7tH2Usesh4record2type2mithq5mutable3fieldeBHayapplicative%2F3types1for4finitedo2mapseHz1s3Write1theyspecification%2FnRX6function4detachdBK2that5removeskyassociation%2FmX3labelQ0an2itemEz2bbjbbbhb3clearbBKbbff6entirely2fromguDEz3c4Verify1allyfunctions%2Fgyincluding%2Flydifferent%2Fyexecution%2FKyscenarios%2F6provided0ino4moduleh1Foryscenario3%2F1oneTHnygenerated%2Fyconditions%2F4should2failkBEz4s0It0is6possibleY1butyundesirable%2FruW2haveue3empty1setBKbuGyassociated%2Fmnude4ModifyXuSuYBH0souZ0ituZuEuZl1map6whenever3theiruPBHZZ4becomeWbCEz5s1Now1addh7h0nomuRhp6property0aszauHyinvariant%2F7rKuS0reA7sA4verifyuXuXZBN7JoMANNud3LabelNIhuuBHs4llabelBNH3cloneuqlA4SetAppuDn1elt7ylHl2fmaplA4MapAppll1keylhBNHq5labelstq77uHu4B7vztb79JPm4forallziBmAgc1mempi7Mz2findqq7RzTmAu9fH0byfma4createA7HonNF1val3statebVNNNH1let3affix7nboX7opzlpAvKpBJ5ensuresbTkgXAZ7O3VqnhgTkknAkhZBHggRlA7mcb7reppAagBcloc1oldcnccZZpjgjjZhqqhhlh7IovTBMqikkBmmmggqmgmhgjqjmjfCXMDXXXkkZXXeppXgBcloepeaaqmjmaajqjmjaZMqlmmQrgipprm7XuBHmglmqVgggkhepjhjjehqqhhlh7IIoVMD4writesCVnnnoNEbR5oldlblsr0ifcekkk2thencooooMR2elsevUvWMB8J8JCuaIf2lblsfVku5UblHgog7RsmeinnnNNNNGhurTm7vvZOpepvZpJ6requiresRTkfffvbYqnhgTkknkhQHvXCgillllvY1nothfolfpfjjnjvWfHfCfvWl7mYX7reppWgBclocvXcncXWYpjgjjYhqqhhlhYWBMrnll7yrfhpprevWBHemngggjdqmjmhdjqjmjhCVMDVCVVkkXVVeppVgBcloepeaaqmjmaajqjmjaXMrljllqVkkkkggpjgjjghqqhhlhvWXMDvWCBXnnnoN8J8J8J8J8JCCFUP6oldlblsirfflllvcJl3lblsilan4removeahlHvWl7SyvYAvYJvWeievYgcoooBHvWqqqnvXnhnnnNNNNDauRSm7vve7oBJvcCRvZmvflgggkPHOCBjnnnoN8J8J8J8J8JCCFPTiiillliWpppYWmoooNNNNHvSpaaHq0l1qvbHq0l2qqNHVyscenario1%2FBQHZvTij7wvVqqqpqqqQqBNHkyscenario2%2FBkBHklollqqgqkqNHuA3errorvBHhuZBhHhilhifqgqoqoqgqBNHjyscenario4%2FjbBvKJvi77vaTvkg4result79HmmmmmcmmFabdibqqmqvZqOiONHZyscenario5%2FZZBZJvRZevLebHXCove7nVdVjV7ojHjCjlllilmFUUWhUqqmqRqoqTqThTNNNNN1endNNNNN"
   ]
  },
  {
   "attachments": {},
   "cell_type": "markdown",
   "metadata": {},
   "source": [
    "5. Agora adiciona a propriedade \"Sem conjuntos de labels vazios\" como um tipo invariante, e re-verifica todas as funções."
   ]
  },
  {
   "cell_type": "raw",
   "metadata": {},
   "source": [
    "  type labelst = { mutable labels : t set }\n",
    "    invariant { forall i :item. mem i labels -> find i labels <> SetApp.empty }\n",
    "    by { labels = create() }"
   ]
  }
 ],
 "metadata": {
  "kernelspec": {
   "display_name": "Python 3",
   "language": "python",
   "name": "python3"
  },
  "language_info": {
   "name": "python",
   "version": "3.10.7 (tags/v3.10.7:6cc6b13, Sep  5 2022, 14:08:36) [MSC v.1933 64 bit (AMD64)]"
  },
  "orig_nbformat": 4,
  "vscode": {
   "interpreter": {
    "hash": "369f2c481f4da34e4445cda3fffd2e751bd1c4d706f27375911949ba6bb62e1c"
   }
  }
 },
 "nbformat": 4,
 "nbformat_minor": 2
}
