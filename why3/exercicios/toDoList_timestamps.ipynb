{
 "cells": [
  {
   "attachments": {},
   "cell_type": "markdown",
   "metadata": {},
   "source": [
    "Este exercício ilustra a combinação dos módulos ToDo e Labels ao cloná-los para um módulo diferente. A ideia é usar as labels como \"timestamps\"; uma vez completas, cada tarefa é \"labeled\" com um número inteiro que representa o momento quando é completadp. Um número inteiro é guardado no estado global e é incrementado a cada completamento de uma tarefa."
   ]
  },
  {
   "attachments": {},
   "cell_type": "markdown",
   "metadata": {},
   "source": [
    "1. Escreve a especificação e a implementação da função `completeT_ts` que é semelhante ao `completeT` mas, adicionalmente, atribui labels às tarefas tal como descrito acima."
   ]
  },
  {
   "cell_type": "raw",
   "metadata": {},
   "source": [
    "module ToDo_TStamps\n",
    "\n",
    "  use int.Int\n",
    "\n",
    "  clone ToDo_spec\n",
    "  clone Label_spec with type item = task, type llabel = int\n",
    "\n",
    "  val ref time :int\n",
    "\n",
    "\n",
    "  let completeT_ts (t :task) : ()\n",
    "    requires { mem t pending }\n",
    "    requires { forall t' :task. (mem t' ddone -> not mem t' pending)\n",
    "                             /\\ (mem t' pending -> not mem t' ddone) }\n",
    "    ensures  { forall t' :task. mem t' ddone   <-> mem t' (old ddone)   \\/ t' = t  }\n",
    "    ensures  { forall t' :task. mem t' pending <-> mem t' (old pending) /\\ t' <> t }\n",
    "    ensures  { MapApp.mem t state.labels /\\ SetApp.mem time (MapApp.find t state.labels) }\n",
    "    ensures  { time = 1 + old time }\n",
    "    ensures  { forall t' :task. (mem t' ddone -> not mem t' pending)\n",
    "                             /\\ (mem t' pending -> not mem t' ddone) }\n",
    "    writes   { pending, ddone, state.labels, time }\n",
    "  = completeT t;\n",
    "    time <- time + 1;\n",
    "    affix t time"
   ]
  },
  {
   "attachments": {},
   "cell_type": "markdown",
   "metadata": {},
   "source": [
    "2. Verifica a função `completeT_ts` e `main`"
   ]
  },
  {
   "cell_type": "raw",
   "metadata": {},
   "source": [
    "val t1 :task\n",
    "  val t2 :task\n",
    "  val t3 :task\n",
    "\n",
    "  let main ()\n",
    "    requires { pending = ddone = empty }\n",
    "    requires { t1<>t2 /\\ t1<>t3 /\\ t2<>t3 }\n",
    "    ensures  { time = old time + 3 }\n",
    "    ensures  { pending = empty }\n",
    "    ensures  { mem t1 ddone /\\ mem t2 ddone /\\ mem t3 ddone }\n",
    "  = addT t1; \n",
    "    addT t2; \n",
    "    completeT_ts t2;\n",
    "    addT t3; \n",
    "    completeT_ts t1;\n",
    "    completeT_ts t3\n",
    "\n",
    "end\n"
   ]
  },
  {
   "attachments": {},
   "cell_type": "markdown",
   "metadata": {},
   "source": [
    "#### Código extra:"
   ]
  },
  {
   "cell_type": "raw",
   "metadata": {},
   "source": [
    "module ToDo_spec\n",
    "  type task \n",
    "  clone export set.SetImp with type elt = task\n",
    "\n",
    "  val pending : set \n",
    "  val ddone   : set \n",
    "\n",
    "  val addT (t :task) : ()\n",
    "    requires { not mem t (union pending ddone) }\n",
    "    requires { forall t' :task. (mem t' ddone -> not mem t' pending)\n",
    "                             /\\ (mem t' pending -> not mem t' ddone) }\n",
    "    (* ensures  { forall t' :task. mem t' ddone   <-> mem t' (old ddone) } *)\n",
    "    ensures  { forall t' :task. mem t' pending <-> mem t' (old pending) \\/ t' = t }\n",
    "    ensures  { forall t' :task. (mem t' ddone -> not mem t' pending)\n",
    "                             /\\ (mem t' pending -> not mem t' ddone) }\n",
    "    writes   { pending }\n",
    "\n",
    "  val completeT (t :task) : ()\n",
    "    requires { mem t pending }\n",
    "    requires { forall t' :task. (mem t' ddone -> not mem t' pending)\n",
    "                             /\\ (mem t' pending -> not mem t' ddone) }\n",
    "    ensures  { forall t' :task. mem t' ddone   <-> mem t' (old ddone)   \\/ t' = t  }\n",
    "    ensures  { forall t' :task. mem t' pending <-> mem t' (old pending) /\\ t' <> t }\n",
    "    ensures  { forall t' :task. (mem t' ddone -> not mem t' pending)\n",
    "                             /\\ (mem t' pending -> not mem t' ddone) }\n",
    "    writes   { pending, ddone }\n",
    "    \n",
    "  val deleteT (t :task) : ()\n",
    "    requires { mem t (union pending ddone) }\n",
    "    requires { forall t' :task. (mem t' ddone -> not mem t' pending)\n",
    "                             /\\ (mem t' pending -> not mem t' ddone) }\n",
    "    ensures  { forall t' :task. mem t' ddone   <-> mem t' (old ddone)   /\\ t' <> t }\n",
    "    ensures  { forall t' :task. mem t' pending <-> mem t' (old pending) /\\ t' <> t }\n",
    "    ensures  { forall t' :task. (mem t' ddone -> not mem t' pending)\n",
    "                             /\\ (mem t' pending -> not mem t' ddone) }\n",
    "    writes   { pending, ddone }\n",
    "    \n",
    "end\n",
    "\n",
    "\n",
    "module Label_spec\n",
    "\n",
    "  type item \n",
    "  type llabel \n",
    "\n",
    "  clone set.SetApp with type elt = llabel\n",
    "  clone fmap.MapApp with type key = item \n",
    "\n",
    "  type labelst = { mutable labels : t set }\n",
    "    invariant { forall i :item. mem i labels -> find i labels <> SetApp.empty }\n",
    "    by { labels = create() }\n",
    "\n",
    "  val state : labelst\n",
    "\n",
    "\n",
    "  val affix (i :item) (l :llabel) : ()\n",
    "    ensures { mem i state.labels /\\ SetApp.mem l (find i state.labels) } \n",
    "    ensures { forall i' :item, l' :llabel. mem i' (old state.labels) /\\ SetApp.mem l' (find i' (old state.labels)) -> \n",
    "                                           mem i' state.labels /\\ SetApp.mem l' (find i' state.labels)  }\n",
    "    ensures { forall i' :item, l' :llabel. mem i' state.labels /\\ SetApp.mem l' (find i' state.labels) ->\n",
    "                                           (i' = i /\\ l' = l) \\/ \n",
    "                                           (mem i' (old state.labels) /\\ SetApp.mem l' (find i' (old state.labels))) }\n",
    "    writes  { state.labels }\n",
    "\n",
    "\n",
    "  val detach (i :item) (l :llabel) : ()\n",
    "    requires { mem i state.labels /\\ SetApp.mem l (find i state.labels) }\n",
    "    ensures  { mem i state.labels -> not (SetApp.mem l (find i state.labels)) }\n",
    "    ensures  { forall i' :item, l' :llabel. mem i' (old state.labels) /\\ SetApp.mem l' (find i' (old state.labels)) -> \n",
    "                                            (i' = i /\\ l' = l) \\/ \n",
    "                                            mem i' state.labels /\\ SetApp.mem l' (find i' state.labels)  }\n",
    "    ensures  { forall i' :item, l' :llabel. mem i' state.labels /\\ SetApp.mem l' (find i' state.labels) ->\n",
    "                                            (mem i' (old state.labels) /\\ SetApp.mem l' (find i' (old state.labels))) }\n",
    "    writes   { state.labels }\n",
    "\t\t\t\t\t    \n",
    "\n",
    "  val clear (i :item) : ()\n",
    "    ensures  { not (mem i state.labels) }\n",
    "    writes   { state.labels }\n",
    "\t\t\t\t\t    \n",
    "\n",
    "end"
   ]
  }
 ],
 "metadata": {
  "kernelspec": {
   "display_name": "Python 3",
   "language": "python",
   "name": "python3"
  },
  "language_info": {
   "name": "python",
   "version": "3.10.7 (tags/v3.10.7:6cc6b13, Sep  5 2022, 14:08:36) [MSC v.1933 64 bit (AMD64)]"
  },
  "orig_nbformat": 4,
  "vscode": {
   "interpreter": {
    "hash": "369f2c481f4da34e4445cda3fffd2e751bd1c4d706f27375911949ba6bb62e1c"
   }
  }
 },
 "nbformat": 4,
 "nbformat_minor": 2
}
