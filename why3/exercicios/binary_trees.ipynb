{
 "cells": [
  {
   "attachments": {},
   "cell_type": "markdown",
   "metadata": {},
   "source": [
    "Considera o tipo indutivo (polimórfico) para árvores binárias (imutáveis) e a especificação e implementação de uma função de inserção ordenada em árvores do tipo `int`."
   ]
  },
  {
   "cell_type": "raw",
   "metadata": {},
   "source": [
    "type tree 'a = Empty | Node (tree 'a) 'a (tree 'a)\n",
    "\n",
    "let rec add (t : tree int) (v : int) : tree int =\n",
    "    requires { sortedBT t }\n",
    "    ensures  { sortedBT result }\n",
    "    ensures  { size result = size t + 1 } \n",
    "    ensures  { forall x : int. memt result x <-> (memt t x \\/ x = v) }\n",
    "    ensures  { forall x : int. num_occ x result =\n",
    "                               if x = v then 1 + num_occ x t else num_occ x t }\n",
    "    match t with\n",
    "     | Empty -> Node (Empty) v (Empty)\n",
    "     | Node t1 x t2 ->\n",
    "       if v <= x then Node (add t1 v) x t2 \n",
    "                 else Node t1 x (add t2 v)\n",
    "    end"
   ]
  },
  {
   "attachments": {},
   "cell_type": "markdown",
   "metadata": {},
   "source": [
    "Define todos os predicados e funções usadas na especificação e prova a correção do `add`."
   ]
  },
  {
   "attachments": {},
   "cell_type": "markdown",
   "metadata": {},
   "source": [
    "NOTAS:\n",
    "* A especificação contém redundância. Onde?\n",
    "* `add` pode ser extraído, e pode ser usado em lógica se incluirmos a keyword `function`, uma vez que não muda o estado global.\n",
    "* `sortedBT`, `size`, `memt`, e `num_occ` devem ser definidos como funções puras no namespace lógico, e dependendo da forma como estão implementados, pode também existir no namespace do programa."
   ]
  },
  {
   "cell_type": "raw",
   "metadata": {},
   "source": [
    "module Bintree_insert\n",
    "  use  int.Int\n",
    "  type tree 'a = Empty | Node (tree 'a) 'a (tree 'a)"
   ]
  },
  {
   "attachments": {},
   "cell_type": "markdown",
   "metadata": {},
   "source": [
    "* tamanho da árvore"
   ]
  },
  {
   "cell_type": "raw",
   "metadata": {},
   "source": [
    "  function size (t: tree 'a) : int =\n",
    "   (* ensures { result >= 0 } *)\n",
    "  match t with\n",
    "  |  Empty -> 0\n",
    "  |  Node l _ r -> 1 + (size l) + (size r)\n",
    "  end"
   ]
  },
  {
   "attachments": {},
   "cell_type": "markdown",
   "metadata": {},
   "source": [
    "* elemento pertence a árvore"
   ]
  },
  {
   "cell_type": "raw",
   "metadata": {},
   "source": [
    "  predicate memt (t : tree int) (k : int) =\n",
    "  match t with\n",
    "  | Empty -> false\n",
    "  | Node t1 x t2 -> (k = x) \\/ memt t1 k \\/ memt t2 k\n",
    "  end"
   ]
  },
  {
   "attachments": {},
   "cell_type": "markdown",
   "metadata": {},
   "source": [
    "* verificação se árvore está ordenada"
   ]
  },
  {
   "cell_type": "raw",
   "metadata": {},
   "source": [
    "  predicate sortedBT (t : tree int) =\n",
    "  match t with\n",
    "  | Empty -> true\n",
    "  | Node t1 x t2 -> sortedBT t1 /\\ sortedBT t2 /\\\n",
    "                    geq_tree x t1 /\\ leq_tree x t2\n",
    "  end"
   ]
  },
  {
   "attachments": {},
   "cell_type": "markdown",
   "metadata": {},
   "source": [
    "* conta número de ocorrências"
   ]
  },
  {
   "cell_type": "raw",
   "metadata": {},
   "source": [
    "  function num_occ (x: 'a) (t: tree 'a) : int =\n",
    "  match t with\n",
    "  | Empty -> 0\n",
    "  | Node t1 y t2 -> (if x = y then 1 else 0) + num_occ x t1 + num_occ x t2\n",
    "  end"
   ]
  },
  {
   "attachments": {},
   "cell_type": "markdown",
   "metadata": {},
   "source": [
    "* adiciona elemento a árvore"
   ]
  },
  {
   "cell_type": "raw",
   "metadata": {},
   "source": [
    "  let rec function add (t : tree int) (v : int) : tree int =\n",
    "    requires { sortedBT t }\n",
    "    ensures  { sortedBT result }\n",
    "    ensures  { size result = size t + 1 } \n",
    "    ensures  { forall x : int. memt result x <-> (memt t x \\/ x = v) }\n",
    "    ensures  { forall x : int. num_occ x result =\n",
    "                               if x = v then 1 + num_occ x t else num_occ x t }\n",
    "    (* variant { t } *)\n",
    "    match t with\n",
    "     | Empty -> Node (Empty) v (Empty)\n",
    "     | Node t1 x t2 ->\n",
    "       if v <= x then Node (add t1 v) x t2 else Node t1 x (add t2 v)\n",
    "    end\n",
    "end"
   ]
  },
  {
   "attachments": {},
   "cell_type": "markdown",
   "metadata": {},
   "source": [
    "### Definições lógicas recursivas vs Definições lógicas quantificadas"
   ]
  },
  {
   "attachments": {},
   "cell_type": "markdown",
   "metadata": {},
   "source": [
    "Considera a definição do predicado `leq_tree` para expressar que um dado inteiro não é maior do que qualquer um dos elementos numa árvore (requerida para a definição de uma árvore ordenada). Uma forma de expressar isto é usar o predicado `membership` e um quantificador universal:"
   ]
  },
  {
   "cell_type": "raw",
   "metadata": {},
   "source": [
    "predicate leq_tree (x : int) (t : tree int) = \n",
    "     forall k : int. memt t k -> x <= k "
   ]
  },
  {
   "attachments": {},
   "cell_type": "markdown",
   "metadata": {},
   "source": [
    "A segunda forma é definir o predicado recursivamente:"
   ]
  },
  {
   "cell_type": "raw",
   "metadata": {},
   "source": [
    "let rec predicate leq_tree (x : int) (t : tree int)\n",
    "  = match t with\n",
    "    | Empty -> true\n",
    "    | Node t1 k t2 -> x <= k && leq_tree x t1 && leq_tree x t2\n",
    "    end"
   ]
  },
  {
   "attachments": {},
   "cell_type": "markdown",
   "metadata": {},
   "source": [
    "Cada definição pode ser mais apropriada para provar diferentes coisas. <br>\n",
    "Mas o facto de no Why3 podemos ter os dois, ao incluir a primeira definição como uma pós-condição do segundo:"
   ]
  },
  {
   "cell_type": "raw",
   "metadata": {},
   "source": [
    "let rec predicate leq_tree (x : int) (t : tree int)\n",
    "    ensures { result <-> forall k : int. not (memt t k) \\/ x <= k }\n",
    "= match t with\n",
    "  | Empty -> true\n",
    "  | Node t1 k t2 -> x <= k && leq_tree x t1 && leq_tree x t2\n",
    "  end"
   ]
  },
  {
   "attachments": {},
   "cell_type": "markdown",
   "metadata": {},
   "source": [
    "Este tipo de definição pode ser útil para facilitar provas automáticas, mas tem uma vantagem adicional: as especificações tornam-se mais fortes e mais fiáveis: uma vez que vamos ter que provar as condições de verificação para assegurar que a pós-condição tem, isto vai ajudar-nos a procurar quaisquer erros que possam estar presentes nas duas versões da definição."
   ]
  }
 ],
 "metadata": {
  "kernelspec": {
   "display_name": "Python 3",
   "language": "python",
   "name": "python3"
  },
  "language_info": {
   "codemirror_mode": {
    "name": "ipython",
    "version": 3
   },
   "file_extension": ".py",
   "mimetype": "text/x-python",
   "name": "python",
   "nbconvert_exporter": "python",
   "pygments_lexer": "ipython3",
   "version": "3.10.7"
  },
  "orig_nbformat": 4,
  "vscode": {
   "interpreter": {
    "hash": "369f2c481f4da34e4445cda3fffd2e751bd1c4d706f27375911949ba6bb62e1c"
   }
  }
 },
 "nbformat": 4,
 "nbformat_minor": 2
}
