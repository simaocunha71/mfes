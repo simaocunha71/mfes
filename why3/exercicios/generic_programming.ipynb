{
 "cells": [
  {
   "attachments": {},
   "cell_type": "markdown",
   "metadata": {},
   "source": [
    "Cria o seguinte módulo WhyML incompleto que contém definições do **map** e de **filter**."
   ]
  },
  {
   "cell_type": "raw",
   "metadata": {},
   "source": [
    "module FunctExerc\n",
    "  use int.Int\n",
    "  use list.List\n",
    "  use list.Length\n",
    "  use list.Mem\n",
    "  use list.NthNoOpt\n",
    "  type a\n",
    "  type b\n",
    "\n",
    "  let rec function map (f :a -> b) (l :list a) : list b\n",
    "  =  match l with\n",
    "     | Nil -> …\n",
    "     | Cons h t -> …\n",
    "     end\n",
    "\n",
    "  let rec function filter (p :a -> bool) (l :list a) : list a\n",
    "  = match l with\n",
    "    | Nil -> …\n",
    "    | Cons h t -> …\n",
    "    end\n",
    "\n",
    "end"
   ]
  },
  {
   "attachments": {},
   "cell_type": "markdown",
   "metadata": {},
   "source": [
    "Os módulos da biblioteca list podem ser encontrados aqui: https://why3.lri.fr/stdlib/list.html"
   ]
  },
  {
   "attachments": {},
   "cell_type": "markdown",
   "metadata": {},
   "source": [
    "1. Completa a definição da função **map**"
   ]
  },
  {
   "cell_type": "raw",
   "metadata": {},
   "source": [
    "  let rec function map (f :a -> b) (l :list a) : list b\n",
    "    ensures { forall i :int. 0<=i<length l -> nth i result = f (nth i l) }\n",
    "    ensures { length result = length l }\n",
    "  =\n",
    "  match l with\n",
    "  | Nil -> Nil\n",
    "  | Cons h t -> Cons (f h) (map f t)\n",
    "  end"
   ]
  },
  {
   "attachments": {},
   "cell_type": "markdown",
   "metadata": {},
   "source": [
    "1.1. Equipa-a de pós-condições para expressar as seguintes propriedades: <br>\n",
    "    1.1.1. Para todo o `n`, o n-ésimo elemento da lista resultado e o n-ésimo elemento da lista argumento são relacionados por `f` como expectado (usar a função `nth`) "
   ]
  },
  {
   "cell_type": "raw",
   "metadata": {},
   "source": [
    "ensures { forall i :int. 0<=i<length l -> nth i result = f (nth i l) }"
   ]
  },
  {
   "attachments": {},
   "cell_type": "markdown",
   "metadata": {},
   "source": [
    "1.1.2. O comprimento da lista resultado é o mesmo que o da lista argumento (usa a função `length`)"
   ]
  },
  {
   "cell_type": "raw",
   "metadata": {},
   "source": [
    "ensures { length result = length l }"
   ]
  },
  {
   "attachments": {},
   "cell_type": "markdown",
   "metadata": {},
   "source": [
    "2. Completa a definição de **filter**"
   ]
  },
  {
   "cell_type": "raw",
   "metadata": {},
   "source": [
    "  let rec function filter (p :a -> bool) (l :list a) : list a\n",
    "    ensures { forall x :a. mem x result <-> mem x l /\\ p x }\n",
    "  =\n",
    "  match l with\n",
    "  | Nil -> Nil\n",
    "  | Cons h t -> if (p h) then Cons h (filter p t)\n",
    "    \t      \telse filter p t\n",
    "  end"
   ]
  },
  {
   "attachments": {},
   "cell_type": "markdown",
   "metadata": {},
   "source": [
    "2.1. Equipa-a de pós-condições para expressar as seguintes propriedades:\n",
    "* Todo o elemento `x` do tipo `a` é membro da lista resultado se e só se é membro da lista argumento e p(x) é verdade"
   ]
  },
  {
   "cell_type": "raw",
   "metadata": {},
   "source": [
    "ensures { forall x :a. mem x result <-> mem x l /\\ p x }"
   ]
  },
  {
   "attachments": {},
   "cell_type": "markdown",
   "metadata": {},
   "source": [
    "Agora cria um novo módulo e define a função **foldr**:"
   ]
  },
  {
   "cell_type": "raw",
   "metadata": {},
   "source": [
    "module Foldr\n",
    "\n",
    "  use int.Int\n",
    "  use list.List\n",
    "  use list.Permut\n",
    "  use list.SortedInt\n",
    "  use list.Sum\n",
    "\n",
    "  let rec function foldr (f :'a -> 'b -> 'b) (z :'b) (l :list 'a) : 'b\n",
    "  = \n",
    "  match l with\n",
    "  | Nil -> z\n",
    "  | Cons h t -> f h (foldr f z t)\n",
    "  end\n",
    "\n",
    "...\n",
    "end"
   ]
  },
  {
   "attachments": {},
   "cell_type": "markdown",
   "metadata": {},
   "source": [
    "1. Uma forma de usar o `foldr` é em especificações. <br>\n",
    "1.1. Define a função `sumList` que soma uma lista de inteiros usando recursão explícita."
   ]
  },
  {
   "cell_type": "raw",
   "metadata": {},
   "source": [
    "  let rec function sumList (l :list int) : int\n",
    "    ensures { result = foldr (+) 0 l }\n",
    "  =\n",
    "  match l with\n",
    "  | Nil -> 0\n",
    "  | Cons h t -> h + sumList t\n",
    "  end"
   ]
  },
  {
   "attachments": {},
   "cell_type": "markdown",
   "metadata": {},
   "source": [
    "1.2. Equipa `sumList` com a especificação, verificando que devolve o resultado do *folding* o operador binário '+' ao longo da lista."
   ]
  },
  {
   "cell_type": "raw",
   "metadata": {},
   "source": [
    "ensures { result = foldr (+) 0 l }"
   ]
  },
  {
   "attachments": {},
   "cell_type": "markdown",
   "metadata": {},
   "source": [
    "2. Outra forma é programá-lo. Vamos usa-lo para definir o algoritmo insertion sort."
   ]
  },
  {
   "attachments": {},
   "cell_type": "markdown",
   "metadata": {},
   "source": [
    "2.1. Define a função de inserção ordenada `insert` (ou melhor, só escreve a especificação para isso)"
   ]
  },
  {
   "cell_type": "raw",
   "metadata": {},
   "source": [
    "  val function insert (i: int) (l: list int) : list int\n",
    "    ensures { sorted l -> sorted result } \n",
    "    ensures { permut result (Cons i l) } "
   ]
  },
  {
   "attachments": {},
   "cell_type": "markdown",
   "metadata": {},
   "source": [
    "2.2. Agora escreve a seguinte definição, depois inclui a especificação usual na função e tenta provar as condições de verificação."
   ]
  },
  {
   "cell_type": "raw",
   "metadata": {},
   "source": [
    "  let function iSort (l :list int) : list int\n",
    "  = foldr insert Nil l \n",
    " \n",
    "  let rec lemma iSort_sorts (l :list int) \n",
    "    ensures { sorted (iSort l) }\n",
    "  =\n",
    "  match l with\n",
    "  | Nil -> ()\n",
    "  | Cons _ t -> iSort_sorts t\n",
    "  end"
   ]
  }
 ],
 "metadata": {
  "kernelspec": {
   "display_name": "Python 3",
   "language": "python",
   "name": "python3"
  },
  "language_info": {
   "name": "python",
   "version": "3.10.7 (tags/v3.10.7:6cc6b13, Sep  5 2022, 14:08:36) [MSC v.1933 64 bit (AMD64)]"
  },
  "orig_nbformat": 4,
  "vscode": {
   "interpreter": {
    "hash": "369f2c481f4da34e4445cda3fffd2e751bd1c4d706f27375911949ba6bb62e1c"
   }
  }
 },
 "nbformat": 4,
 "nbformat_minor": 2
}
